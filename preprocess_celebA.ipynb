{
 "cells": [
  {
   "cell_type": "code",
   "execution_count": null,
   "id": "58e4ccb5-e534-47be-86bd-8d74ec809c62",
   "metadata": {},
   "outputs": [],
   "source": [
    "import helper\n",
    "import random\n",
    "from sklearn.linear_model import LogisticRegression"
   ]
  },
  {
   "cell_type": "code",
   "execution_count": null,
   "id": "c9b1055f-270e-4d3f-abed-f9fd478c198f",
   "metadata": {},
   "outputs": [],
   "source": [
    "data_dir = 'celeba_data/'\n",
    "helper.download_extract('celeba', data_dir)"
   ]
  },
  {
   "cell_type": "code",
   "execution_count": null,
   "id": "9c8c22c3-d4d9-4c94-9515-7aac271bc984",
   "metadata": {},
   "outputs": [],
   "source": [
    "from celeb_utils import filter_images_by_attribute\n",
    "import matplotlib.pyplot as plt"
   ]
  },
  {
   "cell_type": "code",
   "execution_count": null,
   "id": "aeb4b6c0-77e6-4033-b292-40c06cfabac2",
   "metadata": {},
   "outputs": [],
   "source": [
    "random.seed(0)\n",
    "\n",
    "attr = 'Eyeglasses'\n",
    "reverse = False\n",
    "ratio = 0\n",
    "\n",
    "width = 64\n",
    "height = 64\n",
    "\n",
    "# Images with only glasses\n",
    "glasses_ids = filter_images_by_attribute(\n",
    "    data_dir=data_dir,\n",
    "    attr1='Eyeglasses',\n",
    "    present1=True,\n",
    "    attr2='Wearing_Hat',\n",
    "    present2=False\n",
    ")\n",
    "\n",
    "hat_ids = filter_images_by_attribute(\n",
    "    data_dir=data_dir,\n",
    "    attr1='Eyeglasses',\n",
    "    present1=False,\n",
    "    attr2='Wearing_Hat',\n",
    "    present2=True\n",
    ")\n",
    "\n",
    "bg_ids = filter_images_by_attribute(\n",
    "    data_dir=data_dir,\n",
    "    attr1='Eyeglasses',\n",
    "    present1=False,\n",
    "    attr2='Wearing_Hat',\n",
    "    present2=False\n",
    ")\n",
    "\n",
    "tg_ids = hat_ids + glasses_ids\n",
    "random.shuffle(tg_ids)\n",
    "\n",
    "show_n_images = 16\n",
    "celeb_images = helper.get_batch(bg_ids[:show_n_images], width, height, 'RGB')\n",
    "plt.figure()\n",
    "plt.imshow(helper.images_square_grid(celeb_images, 'RGB'))\n",
    "plt.title(\"Background\")"
   ]
  },
  {
   "cell_type": "code",
   "execution_count": null,
   "id": "86ca1a66-a045-47af-b244-2932260c3f01",
   "metadata": {},
   "outputs": [],
   "source": [
    "from data import CelebADataset\n",
    "from torchvision import transforms\n",
    "import numpy as np"
   ]
  },
  {
   "cell_type": "code",
   "execution_count": null,
   "id": "3007876d-18c5-4ee3-b729-be309eb3525c",
   "metadata": {},
   "outputs": [],
   "source": [
    "num_hat_samples = 5000\n",
    "num_glasses_samples = 5000\n",
    "num_background_samples = 10000\n",
    "total_ids = bg_ids[:num_background_samples] + glasses_ids[:num_glasses_samples] + hat_ids[:num_hat_samples]\n",
    "total_labels = np.concatenate([\n",
    "    np.zeros(num_background_samples),\n",
    "    np.ones(num_glasses_samples),\n",
    "    np.ones(num_hat_samples) * 2,\n",
    "])\n",
    "\n",
    "np.save(\"celeba_ids.npy\", total_ids)\n",
    "np.save(\"celeba_labels.npy\", total_labels)"
   ]
  }
 ],
 "metadata": {
  "kernelspec": {
   "display_name": "Python 3",
   "language": "python",
   "name": "python3"
  },
  "language_info": {
   "codemirror_mode": {
    "name": "ipython",
    "version": 3
   },
   "file_extension": ".py",
   "mimetype": "text/x-python",
   "name": "python",
   "nbconvert_exporter": "python",
   "pygments_lexer": "ipython3",
   "version": "3.9.7"
  }
 },
 "nbformat": 4,
 "nbformat_minor": 5
}
