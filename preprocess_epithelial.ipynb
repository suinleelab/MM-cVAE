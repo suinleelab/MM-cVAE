{
 "cells": [
  {
   "cell_type": "code",
   "execution_count": null,
   "id": "3eee9df7-6c95-4f30-8708-bd6b050c6f98",
   "metadata": {},
   "outputs": [],
   "source": [
    "import numpy as np\n",
    "import pandas as pd\n",
    "import scanpy as sc\n",
    "from anndata import AnnData"
   ]
  },
  {
   "cell_type": "code",
   "execution_count": null,
   "id": "d3ec72d3-1725-4fce-997c-b0a2d9fd819d",
   "metadata": {},
   "outputs": [],
   "source": [
    "# File must first be downloaded at https://www.ncbi.nlm.nih.gov/geo/query/acc.cgi?acc=GSE92332\n",
    "df = pd.read_csv(\"data/epithel_new/GSE92332_SalmHelm_UMIcounts.txt\", sep='\\t')\n",
    "df = df.transpose()"
   ]
  },
  {
   "cell_type": "code",
   "execution_count": null,
   "id": "3ca622ec-39f2-4f74-a86d-8f615106666d",
   "metadata": {},
   "outputs": [],
   "source": [
    "cell_groups = []\n",
    "barcodes = []\n",
    "conditions = []\n",
    "cell_types = []\n",
    "\n",
    "for cell in df.index:\n",
    "    cell_group, barcode, condition, cell_type = cell.split('_')\n",
    "    cell_groups.append(cell_group)\n",
    "    barcodes.append(barcode)\n",
    "    conditions.append(condition)\n",
    "    cell_types.append(cell_type)\n",
    "    \n",
    "conditions = np.array(conditions)"
   ]
  },
  {
   "cell_type": "code",
   "execution_count": null,
   "id": "327dd9db-adea-4d92-8d10-8a03d30eb1bf",
   "metadata": {},
   "outputs": [],
   "source": [
    "adata = AnnData(X = df.values, obs={\n",
    "    \"cell_groups\": cell_groups,\n",
    "    \"barcodes\": barcodes,\n",
    "    \"conditions\": conditions,\n",
    "    \"cell_types\": cell_types\n",
    "})"
   ]
  },
  {
   "cell_type": "code",
   "execution_count": null,
   "id": "096df53d-ddad-4839-a9a4-52b891b3cc98",
   "metadata": {},
   "outputs": [],
   "source": [
    "sc.pp.normalize_total(adata, target_sum=1e4)\n",
    "sc.pp.log1p(adata)\n",
    "sc.pp.c(adata, n_top_genes=2000, subset=True)"
   ]
  },
  {
   "cell_type": "code",
   "execution_count": null,
   "id": "9538ab01-55e2-40b0-8fa9-274f3761d0ab",
   "metadata": {},
   "outputs": [],
   "source": [
    "np.save('data/epithel/Control.npy', adata[adata.obs['conditions'] == 'Control'].X.copy())\n",
    "np.save('data/epithel/Hpoly.npy', adata[adata.obs['conditions'] == 'Hpoly.Day10'].X.copy())\n",
    "np.save('data/epithel/Salmonella.npy', adata[adata.obs['conditions'] == 'Salmonella'].X.copy())"
   ]
  }
 ],
 "metadata": {
  "kernelspec": {
   "display_name": "Python 3",
   "language": "python",
   "name": "python3"
  },
  "language_info": {
   "codemirror_mode": {
    "name": "ipython",
    "version": 3
   },
   "file_extension": ".py",
   "mimetype": "text/x-python",
   "name": "python",
   "nbconvert_exporter": "python",
   "pygments_lexer": "ipython3",
   "version": "3.9.7"
  }
 },
 "nbformat": 4,
 "nbformat_minor": 5
}
